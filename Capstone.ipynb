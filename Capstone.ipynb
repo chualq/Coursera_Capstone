{
    "nbformat_minor": 1, 
    "cells": [
        {
            "source": "# Introduction/Business Problem", 
            "cell_type": "markdown", 
            "metadata": {
                "collapsed": true
            }
        }, 
        {
            "source": "This project seeks to explore the ideal location to set up a bubble tea shop in Singapore.\nEating is one of the national pastime in Singapore. In setting up a bubble tea shop, the plan is to:\nfirstly, have it positioned well in an area with high human traffic flow, yet avoiding intense competition from shops of a similar nature;\nsecondly, located where purchasing power for drinks is high; \nthirdly, hire a shop with low rental costs; and\nlastly, analyse peak hours at potential venue and hence, manpower needed to run the shop. ", 
            "cell_type": "markdown", 
            "metadata": {}
        }, 
        {
            "source": "# Data", 
            "cell_type": "markdown", 
            "metadata": {}
        }, 
        {
            "source": "Data should look at:\nfirstly, spread of bubble tea shops in the country; secondly, human traffic flow in area where bubble tea shops are few; thirdly, at chosen location, when the crowd comes in; and lastly how much people spend on drinks at chosen location  ", 
            "cell_type": "markdown", 
            "metadata": {}
        }, 
        {
            "execution_count": null, 
            "cell_type": "code", 
            "metadata": {}, 
            "outputs": [], 
            "source": ""
        }
    ], 
    "metadata": {
        "kernelspec": {
            "display_name": "Python 3.6", 
            "name": "python3", 
            "language": "python"
        }, 
        "language_info": {
            "mimetype": "text/x-python", 
            "nbconvert_exporter": "python", 
            "version": "3.6.8", 
            "name": "python", 
            "file_extension": ".py", 
            "pygments_lexer": "ipython3", 
            "codemirror_mode": {
                "version": 3, 
                "name": "ipython"
            }
        }
    }, 
    "nbformat": 4
}